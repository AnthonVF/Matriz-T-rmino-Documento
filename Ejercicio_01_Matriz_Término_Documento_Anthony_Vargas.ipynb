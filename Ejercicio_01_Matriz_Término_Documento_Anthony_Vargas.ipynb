{
  "nbformat": 4,
  "nbformat_minor": 0,
  "metadata": {
    "colab": {
      "provenance": []
    },
    "kernelspec": {
      "name": "python3",
      "display_name": "Python 3"
    },
    "language_info": {
      "name": "python"
    }
  },
  "cells": [
    {
      "cell_type": "markdown",
      "source": [
        "##Ejercicio 01: Recuperación de Información Basado en el Modelo de Matriz Término-Documento\n"
      ],
      "metadata": {
        "id": "5i8qccnK0pBt"
      }
    },
    {
      "cell_type": "markdown",
      "source": [
        "En este ejercicio, trabajaremos con un corpus de documentos en formato JSON para implementar un sistema de Recuperación de Información basado en el modelo de espacio vectorial. Seguirás los siguientes pasos:"
      ],
      "metadata": {
        "id": "ciPlHtI-0ytb"
      }
    },
    {
      "cell_type": "markdown",
      "source": [
        "##Paso 1: Determinar un vocabulario"
      ],
      "metadata": {
        "id": "9_8wD_4k01_S"
      }
    },
    {
      "cell_type": "markdown",
      "source": [
        "El primer paso es cargar el corpus en formato JSON, extraer los textos de los documentos y crear el vocabulario."
      ],
      "metadata": {
        "id": "fU7yYl5Q04uT"
      }
    },
    {
      "cell_type": "code",
      "source": [
        "import json\n",
        "\n",
        "datos = []\n",
        "with open(file='01tdmatrix_corpus.json', mode='r', encoding='utf-8') as file:\n",
        "    datos = json.load(file)"
      ],
      "metadata": {
        "id": "WU9rtacs0qtj"
      },
      "execution_count": 1,
      "outputs": []
    },
    {
      "cell_type": "code",
      "source": [
        "print(datos[0]['text'].lower())"
      ],
      "metadata": {
        "colab": {
          "base_uri": "https://localhost:8080/"
        },
        "id": "S1xBzE660_mT",
        "outputId": "f19cf9d8-8862-488d-9342-13a7f3abd670"
      },
      "execution_count": 2,
      "outputs": [
        {
          "output_type": "stream",
          "name": "stdout",
          "text": [
            "la inteligencia artificial continúa avanzando rápidamente, transformando sectores como la salud y las finanzas. las empresas están adoptando algoritmos de aprendizaje automático para mejorar la eficiencia. sin embargo, el desafío principal sigue siendo garantizar que las decisiones basadas en datos sean justas y no perpetúen sesgos. la ética es fundamental en este contexto.\n"
          ]
        }
      ]
    },
    {
      "cell_type": "code",
      "source": [
        "print(datos[0]['text'].lower().split())"
      ],
      "metadata": {
        "colab": {
          "base_uri": "https://localhost:8080/"
        },
        "id": "CKifnf-v1C27",
        "outputId": "fee26f51-c46e-4afb-eb13-e671758e7d89"
      },
      "execution_count": 3,
      "outputs": [
        {
          "output_type": "stream",
          "name": "stdout",
          "text": [
            "['la', 'inteligencia', 'artificial', 'continúa', 'avanzando', 'rápidamente,', 'transformando', 'sectores', 'como', 'la', 'salud', 'y', 'las', 'finanzas.', 'las', 'empresas', 'están', 'adoptando', 'algoritmos', 'de', 'aprendizaje', 'automático', 'para', 'mejorar', 'la', 'eficiencia.', 'sin', 'embargo,', 'el', 'desafío', 'principal', 'sigue', 'siendo', 'garantizar', 'que', 'las', 'decisiones', 'basadas', 'en', 'datos', 'sean', 'justas', 'y', 'no', 'perpetúen', 'sesgos.', 'la', 'ética', 'es', 'fundamental', 'en', 'este', 'contexto.']\n"
          ]
        }
      ]
    },
    {
      "cell_type": "code",
      "source": [
        "vocab = set(datos[0]['text'].lower().split())\n",
        "print(vocab)\n",
        "print(len(vocab))"
      ],
      "metadata": {
        "colab": {
          "base_uri": "https://localhost:8080/"
        },
        "id": "x_u4wKWY1FQr",
        "outputId": "d4798f83-9cbd-48dc-9f32-c23788e78f6e"
      },
      "execution_count": 4,
      "outputs": [
        {
          "output_type": "stream",
          "name": "stdout",
          "text": [
            "{'sin', 'siendo', 'continúa', 'de', 'avanzando', 'fundamental', 'desafío', 'artificial', 'automático', 'sectores', 'que', 'perpetúen', 'garantizar', 'este', 'finanzas.', 'salud', 'decisiones', 'eficiencia.', 'justas', 'transformando', 'rápidamente,', 'el', 'sigue', 'no', 'es', 'sesgos.', 'aprendizaje', 'están', 'principal', 'ética', 'mejorar', 'sean', 'embargo,', 'algoritmos', 'la', 'empresas', 'datos', 'inteligencia', 'adoptando', 'para', 'basadas', 'las', 'contexto.', 'en', 'como', 'y'}\n",
            "46\n"
          ]
        }
      ]
    },
    {
      "cell_type": "code",
      "source": [
        "vocab = []\n",
        "for i in range(0,len(datos)):\n",
        "    vocab.extend(datos[i]['text'].lower().replace(',','').replace('.','').split())\n",
        "\n",
        "vocab = set(vocab)\n",
        "print(len(vocab))\n",
        "print(vocab)"
      ],
      "metadata": {
        "colab": {
          "base_uri": "https://localhost:8080/"
        },
        "id": "i_V77AJO1LL7",
        "outputId": "d4999c28-d38b-4c4e-c83f-1bda15222328"
      },
      "execution_count": 5,
      "outputs": [
        {
          "output_type": "stream",
          "name": "stdout",
          "text": [
            "230\n",
            "{'sin', 'desarrollo', 'planetas', 'efectos', 'continúa', 'trabajos', 'mejorando', 'artificial', 'viaje', 'convertido', 'portátiles', 'está', 'ahora', 'consumidores', 'electrónico', 'completo', 'este', 'reto', 'mundo', 'diagnostican', 'avanzadas', 'prometedor', 'el', 'implicaciones', 'vez', 'sigue', 'eficiencia', 'distancia', 'rápidamente', 'creciente', 'jugadores', 'escenas', 'alcanzado', 'adopción', 'desde', 'recomendaciones', 'atraen', 'plataformas', 'cuándo', 'se', 'cuidados', 'aquellos', 'demanda', 'para', 'hábitos', 'cinematográficas', 'aumentada', 'las', 'público', 'impulsa', 'finanzas', 'flexibilidad', 'vida', 'monitorean', 'habilidades', 'enfoque', 'médicos', 'optimizando', 'solo', 'fundamental', 'importar', 'automático', 'bienestar', 'aplicaciones', 'garantizar', 'transformado', 'literarios', 'personal', 'individual', 'entretiene', 'decisiones', 'transformando', 'incorporando', 'aumento', 'integral', 'permitiendo', 'interacción', 'no', 'saludables', 'democratizando', 'mundos', 'los', 'virtuales', 'sino', 'aprendizaje', 'tecnología', 'ha', 'populares', 'profesionales', 'uno', 'mejorar', 'tratamientos', 'algoritmos', 'humanidad', 'empresas', 'cada', 'donde', 'datos', 'pagos', 'adoptando', 'crecimiento', 'línea', 'educación', 'tiempo', 'calidad', 'inmersivos', 'ficción', 'llevado', 'contenido', 'todo', 'de', 'forma', 'producciones', 'películas', 'buscan', 'experiencias', 'hasta', 'mercado', 'utilizan', 'telemedicina', 'sectores', 'que', 'perpetúen', 'cómo', 'personalizadas', 'visuales', 'además', 'sobre', 'realistas', 'enfermedades', 'justas', 'nuevas', 'dispositivos', 'promueven', 'acceso', 'futuro', 'años', 'es', 'muchas', 'personalizados', 'a', 'compramos', 'beneficios', 'están', 'reflexionar', 'también', 'mejores', 'cine', 'géneros', 'sean', 'contexto', 'interactuar', 'diarias', 'prioridad', 'mayores', 'cambiando', 'accesibles', 'la', 'sus', 'medicina', 'eficaces', 'digitales', 'especialmente', 'personas', 'programas', 'aunque', 'evolucionado', 'explorando', 'género', 'otros', 'una', 'embargo', 'y', 'videojuegos', 'desafían', 'siendo', 'espectadores', 'series', 'avanzando', 'desafío', 'rápidos', 'competencias', 'transacciones', 'experiencia', 'e-sports', 'temas', 'libros', 'consume', 'streaming', 'comercio', 'salud', 'facilitando', 'herramientas', 'con', 'estudiantes', 'sesgos', 'su', 'nuevo', 'crear', 'invita', 'ciencia', 'nivel', 'acceder', 'tecnológicos', 'principal', 'ética', 'ofrecer', 'siguen', 'real', 'más', 'cursos', 'usuario', 'falta', 'pueden', 'cambiado', 'permitido', 'compras', 'educativa', 'presencial', 'inteligencia', 'realidad', 'avances', 'tratan', 'millones', 'basadas', 'un', 'en', 'como', 'tecnologías', 'ubicación'}\n"
          ]
        }
      ]
    },
    {
      "cell_type": "markdown",
      "source": [
        "##Paso 2: Calcular una matriz término-documento"
      ],
      "metadata": {
        "id": "xl86C3Zd1QJD"
      }
    },
    {
      "cell_type": "markdown",
      "source": [
        "Una vez que tenemos el vocabulario, el siguiente paso es construir una **matriz término-documento**, que nos permitirá representar cada documento como un vector en el espacio de términos."
      ],
      "metadata": {
        "id": "vefPPfdi1SkL"
      }
    },
    {
      "cell_type": "code",
      "source": [
        "def tdtransform(text):\n",
        "    doc = []\n",
        "    for word in vocab:\n",
        "        if word in text.lower().replace(',','').replace('.','').split():\n",
        "           doc.append(1)\n",
        "        else:\n",
        "            doc.append(0)\n",
        "    return doc"
      ],
      "metadata": {
        "id": "DHIjzQFp1OKL"
      },
      "execution_count": 6,
      "outputs": []
    },
    {
      "cell_type": "code",
      "source": [
        "tdmatrix = []\n",
        "for i in range(0,len(datos)):\n",
        "    doc = tdtransform(text=datos[i]['text'])\n",
        "    tdmatrix.append(doc)\n",
        "\n",
        "print(tdmatrix)"
      ],
      "metadata": {
        "colab": {
          "base_uri": "https://localhost:8080/"
        },
        "id": "XnfYlNpz1Y9r",
        "outputId": "1b57d6af-9405-4fbd-be5b-8ed30d761972"
      },
      "execution_count": 7,
      "outputs": [
        {
          "output_type": "stream",
          "name": "stdout",
          "text": [
            "[[1, 0, 0, 0, 1, 0, 0, 1, 0, 0, 0, 0, 0, 0, 0, 0, 1, 0, 0, 0, 0, 0, 1, 0, 0, 1, 1, 0, 1, 0, 0, 0, 0, 0, 0, 0, 0, 0, 0, 0, 0, 0, 0, 1, 0, 0, 0, 1, 0, 0, 1, 0, 0, 0, 0, 0, 0, 0, 0, 1, 0, 1, 0, 0, 1, 0, 0, 0, 0, 0, 1, 1, 0, 0, 0, 0, 0, 1, 0, 0, 0, 0, 0, 0, 1, 0, 0, 0, 0, 0, 1, 0, 1, 0, 1, 0, 0, 1, 0, 1, 0, 0, 0, 0, 0, 0, 0, 0, 0, 0, 1, 0, 0, 0, 0, 0, 0, 0, 0, 0, 1, 1, 1, 0, 0, 0, 0, 0, 0, 0, 1, 0, 0, 0, 0, 0, 0, 1, 0, 0, 0, 0, 0, 1, 0, 0, 0, 0, 0, 1, 1, 0, 0, 0, 0, 0, 0, 1, 0, 0, 0, 0, 0, 0, 0, 0, 0, 0, 0, 0, 0, 1, 1, 0, 0, 1, 0, 0, 1, 1, 0, 0, 0, 0, 0, 0, 0, 0, 0, 0, 1, 0, 0, 0, 0, 1, 0, 0, 0, 0, 0, 0, 0, 0, 1, 1, 0, 0, 0, 0, 0, 0, 0, 0, 0, 0, 0, 0, 0, 1, 0, 0, 0, 0, 1, 0, 1, 1, 0, 0], [0, 1, 0, 0, 0, 0, 0, 1, 0, 0, 0, 0, 1, 0, 0, 0, 1, 0, 1, 0, 0, 0, 1, 0, 0, 0, 0, 0, 0, 0, 1, 0, 1, 0, 0, 0, 1, 0, 0, 0, 0, 0, 0, 0, 0, 0, 1, 1, 0, 1, 0, 0, 0, 0, 0, 0, 0, 0, 0, 0, 0, 0, 0, 0, 0, 0, 0, 0, 0, 0, 0, 0, 0, 0, 0, 0, 0, 0, 0, 0, 1, 1, 1, 0, 0, 0, 1, 0, 1, 0, 0, 0, 0, 0, 0, 0, 1, 0, 0, 0, 1, 0, 0, 0, 0, 1, 0, 0, 0, 1, 1, 0, 0, 0, 0, 0, 0, 1, 0, 0, 0, 0, 0, 0, 0, 0, 0, 0, 0, 0, 0, 0, 0, 0, 0, 0, 0, 0, 0, 0, 1, 0, 0, 0, 0, 1, 0, 0, 0, 0, 0, 1, 0, 0, 0, 0, 0, 1, 0, 0, 0, 0, 0, 0, 0, 0, 0, 0, 0, 0, 0, 0, 1, 1, 0, 0, 1, 0, 0, 0, 0, 1, 0, 0, 1, 0, 0, 0, 0, 0, 0, 0, 0, 1, 0, 0, 0, 1, 0, 0, 0, 1, 0, 0, 0, 0, 0, 0, 0, 1, 0, 0, 0, 1, 0, 0, 0, 0, 0, 1, 1, 0, 0, 1, 0, 1, 1, 1, 1, 0], [0, 0, 0, 0, 0, 0, 0, 0, 0, 0, 0, 0, 0, 1, 1, 0, 0, 0, 0, 0, 0, 0, 1, 0, 0, 0, 0, 0, 0, 1, 0, 0, 0, 0, 1, 1, 0, 1, 0, 0, 0, 0, 1, 1, 0, 0, 0, 1, 0, 0, 0, 0, 0, 0, 0, 0, 0, 1, 0, 0, 0, 0, 0, 0, 0, 0, 0, 0, 0, 0, 0, 0, 0, 0, 0, 0, 0, 0, 0, 0, 0, 1, 0, 0, 0, 1, 1, 0, 0, 0, 0, 0, 0, 0, 1, 0, 0, 0, 1, 0, 0, 1, 0, 0, 0, 0, 0, 0, 0, 0, 1, 1, 0, 0, 0, 1, 1, 0, 0, 0, 0, 1, 0, 0, 1, 0, 0, 0, 0, 0, 0, 0, 0, 0, 0, 0, 0, 0, 0, 0, 0, 1, 0, 1, 0, 0, 1, 0, 0, 0, 0, 0, 1, 0, 0, 0, 0, 1, 1, 0, 0, 1, 0, 0, 0, 0, 0, 0, 0, 0, 0, 0, 0, 0, 0, 0, 0, 0, 0, 0, 1, 0, 1, 0, 0, 0, 0, 0, 0, 1, 0, 1, 0, 1, 0, 0, 0, 0, 0, 0, 0, 0, 0, 0, 0, 0, 1, 1, 0, 0, 0, 1, 0, 0, 1, 0, 1, 0, 0, 0, 0, 1, 0, 0, 0, 0, 1, 0, 0, 0], [1, 0, 0, 0, 0, 1, 1, 0, 0, 0, 0, 0, 0, 0, 0, 1, 0, 1, 0, 0, 0, 0, 0, 0, 0, 0, 0, 1, 0, 0, 0, 0, 0, 0, 0, 0, 0, 0, 0, 0, 0, 1, 0, 1, 0, 0, 0, 1, 0, 0, 0, 1, 0, 0, 0, 0, 0, 0, 0, 0, 1, 0, 0, 0, 0, 0, 0, 0, 0, 0, 0, 0, 0, 0, 0, 0, 1, 0, 0, 0, 0, 1, 0, 0, 0, 0, 1, 0, 0, 1, 0, 0, 0, 0, 0, 0, 0, 0, 0, 0, 0, 0, 1, 1, 1, 0, 0, 0, 0, 0, 1, 0, 0, 0, 0, 0, 0, 0, 0, 0, 0, 0, 0, 0, 0, 0, 0, 0, 0, 0, 0, 0, 0, 0, 0, 0, 0, 1, 0, 0, 1, 0, 1, 0, 0, 0, 0, 0, 0, 0, 0, 0, 0, 0, 1, 0, 0, 1, 0, 0, 0, 1, 1, 0, 1, 1, 0, 0, 0, 0, 0, 0, 0, 0, 0, 0, 0, 0, 0, 0, 0, 0, 0, 1, 0, 0, 0, 0, 0, 0, 0, 0, 1, 1, 1, 0, 1, 0, 0, 0, 0, 0, 1, 0, 0, 0, 0, 1, 0, 0, 0, 0, 1, 0, 0, 1, 0, 1, 1, 0, 0, 0, 0, 1, 0, 1, 0, 0, 0, 1], [0, 0, 0, 1, 0, 0, 0, 0, 0, 0, 0, 0, 0, 0, 0, 0, 0, 0, 0, 0, 1, 0, 1, 0, 1, 0, 0, 0, 0, 0, 0, 1, 0, 0, 0, 0, 0, 1, 1, 0, 0, 0, 0, 1, 0, 1, 0, 1, 1, 0, 0, 0, 0, 0, 0, 0, 0, 0, 0, 0, 0, 0, 0, 0, 0, 1, 0, 0, 0, 0, 0, 0, 1, 0, 0, 0, 0, 0, 0, 1, 0, 1, 0, 0, 0, 0, 1, 0, 0, 0, 0, 0, 0, 0, 0, 1, 0, 0, 0, 0, 0, 0, 0, 0, 0, 0, 0, 0, 1, 0, 1, 0, 1, 1, 0, 0, 0, 0, 1, 0, 0, 1, 0, 1, 0, 1, 1, 0, 1, 0, 0, 0, 0, 0, 1, 0, 1, 0, 0, 0, 1, 0, 0, 0, 0, 0, 0, 1, 0, 0, 0, 0, 0, 0, 0, 0, 0, 1, 0, 0, 0, 0, 0, 0, 0, 0, 1, 0, 0, 0, 0, 0, 1, 0, 1, 0, 0, 1, 0, 0, 0, 0, 0, 0, 0, 0, 0, 1, 1, 0, 0, 0, 0, 1, 0, 0, 0, 0, 1, 0, 0, 0, 0, 0, 0, 0, 0, 0, 0, 1, 0, 0, 0, 0, 0, 0, 0, 0, 0, 0, 1, 0, 0, 0, 0, 0, 0, 0, 1, 0], [0, 0, 1, 0, 0, 0, 0, 1, 1, 0, 0, 0, 0, 0, 0, 0, 1, 0, 0, 0, 0, 0, 1, 1, 0, 0, 0, 0, 0, 0, 0, 0, 0, 0, 0, 0, 0, 0, 0, 0, 0, 0, 0, 0, 0, 0, 0, 1, 0, 0, 0, 0, 1, 0, 0, 0, 0, 0, 1, 0, 0, 0, 0, 0, 0, 0, 1, 0, 0, 1, 0, 0, 0, 0, 0, 0, 0, 1, 0, 0, 0, 1, 0, 1, 0, 0, 0, 1, 0, 1, 0, 0, 0, 1, 0, 0, 0, 0, 0, 0, 0, 0, 0, 1, 0, 0, 1, 0, 0, 0, 1, 0, 0, 0, 0, 0, 0, 0, 0, 0, 0, 1, 0, 0, 0, 0, 0, 1, 0, 0, 0, 0, 0, 0, 0, 1, 0, 1, 0, 0, 1, 0, 0, 0, 1, 1, 0, 0, 1, 0, 0, 0, 0, 0, 0, 0, 0, 1, 0, 0, 0, 0, 0, 0, 0, 0, 0, 1, 1, 1, 0, 0, 1, 0, 0, 0, 0, 0, 0, 0, 0, 0, 0, 0, 0, 1, 0, 0, 0, 0, 0, 0, 0, 0, 0, 0, 0, 0, 0, 1, 1, 0, 0, 1, 0, 0, 0, 0, 0, 1, 0, 0, 0, 0, 0, 0, 0, 0, 0, 1, 0, 1, 0, 0, 0, 0, 1, 1, 0, 0], [0, 1, 0, 0, 0, 0, 0, 0, 0, 1, 0, 0, 0, 0, 0, 0, 0, 0, 0, 0, 0, 0, 1, 0, 0, 0, 0, 0, 0, 0, 0, 0, 0, 1, 1, 0, 0, 0, 0, 1, 0, 0, 1, 1, 1, 0, 0, 0, 0, 0, 0, 0, 1, 0, 1, 1, 0, 0, 0, 0, 0, 0, 1, 1, 0, 0, 0, 1, 1, 0, 0, 0, 0, 1, 1, 0, 0, 0, 1, 0, 0, 0, 0, 0, 1, 0, 1, 0, 0, 0, 1, 0, 0, 0, 0, 0, 0, 0, 0, 0, 1, 0, 0, 0, 1, 0, 0, 1, 0, 0, 1, 0, 0, 0, 1, 0, 1, 0, 0, 0, 0, 1, 0, 0, 0, 0, 0, 0, 0, 0, 0, 1, 0, 1, 0, 0, 0, 0, 1, 0, 1, 0, 0, 0, 0, 0, 0, 0, 0, 0, 0, 0, 0, 1, 0, 0, 0, 1, 0, 0, 0, 0, 0, 1, 0, 0, 0, 0, 0, 0, 1, 0, 1, 0, 0, 0, 0, 0, 0, 0, 0, 0, 0, 0, 0, 0, 1, 0, 0, 0, 0, 0, 0, 0, 0, 0, 1, 0, 0, 0, 0, 0, 0, 0, 0, 0, 0, 0, 0, 0, 1, 0, 0, 0, 0, 0, 0, 0, 0, 0, 0, 0, 0, 0, 0, 1, 1, 0, 0, 0], [0, 0, 0, 0, 0, 0, 0, 0, 0, 0, 1, 1, 0, 0, 0, 0, 0, 0, 0, 1, 0, 1, 1, 0, 0, 0, 0, 0, 0, 0, 0, 0, 0, 0, 1, 0, 0, 0, 0, 1, 1, 0, 0, 0, 0, 0, 0, 1, 0, 0, 0, 0, 0, 1, 0, 0, 1, 0, 0, 0, 0, 0, 0, 0, 0, 0, 0, 0, 0, 0, 0, 0, 0, 0, 0, 1, 0, 0, 0, 0, 0, 1, 0, 0, 0, 1, 0, 0, 0, 0, 0, 1, 0, 0, 0, 0, 0, 0, 0, 0, 0, 0, 0, 1, 0, 0, 0, 0, 0, 0, 1, 1, 0, 0, 0, 0, 1, 0, 0, 1, 0, 1, 0, 0, 0, 0, 0, 0, 0, 1, 0, 0, 1, 0, 0, 1, 0, 1, 0, 1, 1, 0, 0, 1, 0, 0, 0, 0, 0, 0, 0, 0, 0, 0, 0, 1, 1, 1, 0, 1, 1, 0, 0, 0, 0, 0, 0, 0, 0, 0, 0, 0, 1, 0, 0, 0, 0, 0, 0, 0, 0, 0, 0, 0, 0, 0, 0, 0, 0, 0, 1, 0, 0, 1, 0, 0, 0, 0, 0, 0, 0, 0, 0, 0, 0, 0, 1, 0, 1, 1, 0, 0, 0, 0, 0, 0, 0, 0, 0, 0, 0, 1, 1, 0, 0, 0, 1, 0, 0, 0]]\n"
          ]
        }
      ]
    },
    {
      "cell_type": "markdown",
      "source": [
        "##Paso 3: Obtener una representación de una query en el espacio término-documento"
      ],
      "metadata": {
        "id": "U4la8lPk1cva"
      }
    },
    {
      "cell_type": "markdown",
      "source": [
        "Ahora vamos a representar una *query* como un vector en el mismo espacio de términos que hicimos para el corpus."
      ],
      "metadata": {
        "id": "sD-pjcl81hxK"
      }
    },
    {
      "cell_type": "code",
      "source": [
        "query = \"inteligencia artificial en medicina\"\n",
        "print(tdtransform(query))"
      ],
      "metadata": {
        "colab": {
          "base_uri": "https://localhost:8080/"
        },
        "id": "aQvVSxPc1d_S",
        "outputId": "29f00b5b-35dc-40cb-975a-8ec4d4e7ee89"
      },
      "execution_count": 8,
      "outputs": [
        {
          "output_type": "stream",
          "name": "stdout",
          "text": [
            "[0, 0, 0, 0, 0, 0, 0, 1, 0, 0, 0, 0, 0, 0, 0, 0, 0, 0, 0, 0, 0, 0, 0, 0, 0, 0, 0, 0, 0, 0, 0, 0, 0, 0, 0, 0, 0, 0, 0, 0, 0, 0, 0, 0, 0, 0, 0, 0, 0, 0, 0, 0, 0, 0, 0, 0, 0, 0, 0, 0, 0, 0, 0, 0, 0, 0, 0, 0, 0, 0, 0, 0, 0, 0, 0, 0, 0, 0, 0, 0, 0, 0, 0, 0, 0, 0, 0, 0, 0, 0, 0, 0, 0, 0, 0, 0, 0, 0, 0, 0, 0, 0, 0, 0, 0, 0, 0, 0, 0, 0, 0, 0, 0, 0, 0, 0, 0, 0, 0, 0, 0, 0, 0, 0, 0, 0, 0, 0, 0, 0, 0, 0, 0, 0, 0, 0, 0, 0, 0, 0, 0, 0, 0, 0, 0, 0, 0, 0, 0, 0, 0, 0, 0, 0, 0, 0, 0, 0, 0, 1, 0, 0, 0, 0, 0, 0, 0, 0, 0, 0, 0, 0, 0, 0, 0, 0, 0, 0, 0, 0, 0, 0, 0, 0, 0, 0, 0, 0, 0, 0, 0, 0, 0, 0, 0, 0, 0, 0, 0, 0, 0, 0, 0, 0, 0, 0, 0, 0, 0, 0, 0, 0, 0, 0, 0, 0, 0, 0, 0, 1, 0, 0, 0, 0, 0, 0, 1, 0, 0, 0]\n"
          ]
        }
      ]
    },
    {
      "cell_type": "markdown",
      "source": [
        "##Paso 4: Calcular la distancia entre la query y todos los documentos del corpus"
      ],
      "metadata": {
        "id": "V3xOZDjo1ni7"
      }
    },
    {
      "cell_type": "markdown",
      "source": [
        "Paso 4: Calcular la distancia entre la query y todos los documentos del corpus\n",
        "Al obtener la distancia Jaccard entre la query y cada documento del corpus, calculamos la relevancia que tiene cada documento para la *query*"
      ],
      "metadata": {
        "id": "SkbL46t11qNq"
      }
    },
    {
      "cell_type": "markdown",
      "source": [
        "## Paso 4.1: Importación de librerías necesarias"
      ],
      "metadata": {
        "id": "r6GCrF1BBHVs"
      }
    },
    {
      "cell_type": "code",
      "source": [
        "import pandas as pd\n",
        "from sklearn.metrics import jaccard_score"
      ],
      "metadata": {
        "id": "mhBK9YDU10Ux"
      },
      "execution_count": 9,
      "outputs": []
    },
    {
      "cell_type": "markdown",
      "source": [
        "##4.2: Implementar la similitud de Jaccard"
      ],
      "metadata": {
        "id": "areOkTW0D9TA"
      }
    },
    {
      "cell_type": "markdown",
      "source": [
        "\n",
        "\n",
        "*   query_vector : Vector binario que representa los términos de la query en el espacio término-documento. Cada posición del vector es 1 si el término está presente en la query, y 0 en caso contrario.\n",
        "*   scores : Lista de valores de similitud de Jaccard entre la query y cada documento en la matriz. Cada valor está en el rango [0, 1], donde 1 significa que la query y el documento son idénticos en términos de los términos presentes.\n",
        "\n"
      ],
      "metadata": {
        "id": "0_ckV9rgJlsw"
      }
    },
    {
      "cell_type": "code",
      "source": [
        "def calcular_similitud_jaccard(query_vector, tdmatrix):\n",
        "    # Inicializamos una lista para almacenar los puntajes de similitud entre la query y cada documento.\n",
        "    scores = [\n",
        "        # Calcula la similitud de Jaccard entre la query y el i-ésimo documento\n",
        "        jaccard_score(query_vector, tdmatrix[i], average='binary')\n",
        "        for i in range(len(tdmatrix))\n",
        "    ]\n",
        "    # Retornamos la lista de puntajes de similitud para cada documento.\n",
        "    return scores"
      ],
      "metadata": {
        "id": "xoxLi3Q1ECqo"
      },
      "execution_count": 10,
      "outputs": []
    },
    {
      "cell_type": "markdown",
      "source": [
        "##4.3: Implementar una lista de las Querys"
      ],
      "metadata": {
        "id": "UsvOS5UqEJAx"
      }
    },
    {
      "cell_type": "code",
      "source": [
        "# Lista de queries\n",
        "queries = [\n",
        "    \"inteligencia artificial en medicina\",\n",
        "    \"beneficios de la educación a distancia\",\n",
        "    \"realidad aumentada en videojuegos\",\n",
        "    \"desarrollo personal y hábitos saludables\",\n",
        "    \"futuro del comercio electrónico\",\n",
        "    \"tecnologías en cine moderno\",\n",
        "    \"competencias e-sports\",\n",
        "    \"diagnóstico con dispositivos portátiles\",\n",
        "    \"literatura de ciencia ficción\",\n",
        "    \"plataformas de streaming\"\n",
        "]"
      ],
      "metadata": {
        "id": "lckknNcJEMWg"
      },
      "execution_count": 11,
      "outputs": []
    },
    {
      "cell_type": "markdown",
      "source": [
        "##Paso 5: Entregar los resultados de la búsqueda al usuario"
      ],
      "metadata": {
        "id": "oJ0Ci-6s1vga"
      }
    },
    {
      "cell_type": "markdown",
      "source": [
        "A partir de la *query*, debemos indicar al usuario cuáles documentos son los más relevantes. Se debe presentar la información en orden de relevancia."
      ],
      "metadata": {
        "id": "4Hu1T2U11ySp"
      }
    },
    {
      "cell_type": "code",
      "source": [
        "# Iteramos sobre cada query\n",
        "for i, query in enumerate(queries):\n",
        "    query_vector = tdtransform(query)  # Transformar query a vector binario\n",
        "\n",
        "    # Mostrar la query procesada para identificar su posición en la lista\n",
        "    print(f\"Resultados para Query {i+1}: {query}\")\n",
        "\n",
        "    # Calcular las similitudes con todos los documentos\n",
        "    scores = calcular_similitud_jaccard(query_vector, tdmatrix)\n",
        "\n",
        "    # Ordenar los documentos por relevancia en función del puntaje de Jaccard\n",
        "    # 'sorted' organiza los documentos de mayor a menor similitud\n",
        "    resultados = sorted(enumerate(scores), key=lambda x: x[1], reverse=True)[:8]\n",
        "\n",
        "    # Mostrar los 8 documentos más relevantes y sus respectivos puntajes\n",
        "    for doc_id, score in resultados:\n",
        "        print(f\"  Documento {doc_id + 1} - Score: {score:.2f}\")\n",
        "    print() #Salto de línea"
      ],
      "metadata": {
        "colab": {
          "base_uri": "https://localhost:8080/"
        },
        "id": "HftqKuGa1kQ-",
        "outputId": "099066e9-08f2-4adf-b057-eb76b3439a11"
      },
      "execution_count": 12,
      "outputs": [
        {
          "output_type": "stream",
          "name": "stdout",
          "text": [
            "Resultados para Query 1: inteligencia artificial en medicina\n",
            "  Documento 6 - Score: 0.07\n",
            "  Documento 2 - Score: 0.07\n",
            "  Documento 1 - Score: 0.06\n",
            "  Documento 8 - Score: 0.05\n",
            "  Documento 3 - Score: 0.02\n",
            "  Documento 7 - Score: 0.02\n",
            "  Documento 4 - Score: 0.00\n",
            "  Documento 5 - Score: 0.00\n",
            "\n",
            "Resultados para Query 2: beneficios de la educación a distancia\n",
            "  Documento 4 - Score: 0.14\n",
            "  Documento 6 - Score: 0.07\n",
            "  Documento 8 - Score: 0.07\n",
            "  Documento 5 - Score: 0.07\n",
            "  Documento 7 - Score: 0.07\n",
            "  Documento 2 - Score: 0.06\n",
            "  Documento 3 - Score: 0.04\n",
            "  Documento 1 - Score: 0.04\n",
            "\n",
            "Resultados para Query 3: realidad aumentada en videojuegos\n",
            "  Documento 2 - Score: 0.09\n",
            "  Documento 3 - Score: 0.02\n",
            "  Documento 6 - Score: 0.02\n",
            "  Documento 8 - Score: 0.02\n",
            "  Documento 5 - Score: 0.02\n",
            "  Documento 7 - Score: 0.02\n",
            "  Documento 1 - Score: 0.02\n",
            "  Documento 4 - Score: 0.00\n",
            "\n",
            "Resultados para Query 4: desarrollo personal y hábitos saludables\n",
            "  Documento 7 - Score: 0.12\n",
            "  Documento 2 - Score: 0.04\n",
            "  Documento 6 - Score: 0.02\n",
            "  Documento 8 - Score: 0.02\n",
            "  Documento 5 - Score: 0.02\n",
            "  Documento 1 - Score: 0.02\n",
            "  Documento 3 - Score: 0.00\n",
            "  Documento 4 - Score: 0.00\n",
            "\n",
            "Resultados para Query 5: futuro del comercio electrónico\n",
            "  Documento 3 - Score: 0.05\n",
            "  Documento 6 - Score: 0.02\n",
            "  Documento 8 - Score: 0.02\n",
            "  Documento 1 - Score: 0.00\n",
            "  Documento 2 - Score: 0.00\n",
            "  Documento 4 - Score: 0.00\n",
            "  Documento 5 - Score: 0.00\n",
            "  Documento 7 - Score: 0.00\n",
            "\n",
            "Resultados para Query 6: tecnologías en cine moderno\n",
            "  Documento 5 - Score: 0.05\n",
            "  Documento 2 - Score: 0.04\n",
            "  Documento 3 - Score: 0.02\n",
            "  Documento 6 - Score: 0.02\n",
            "  Documento 8 - Score: 0.02\n",
            "  Documento 7 - Score: 0.02\n",
            "  Documento 1 - Score: 0.02\n",
            "  Documento 4 - Score: 0.00\n",
            "\n",
            "Resultados para Query 7: competencias e-sports\n",
            "  Documento 2 - Score: 0.05\n",
            "  Documento 1 - Score: 0.00\n",
            "  Documento 3 - Score: 0.00\n",
            "  Documento 4 - Score: 0.00\n",
            "  Documento 5 - Score: 0.00\n",
            "  Documento 6 - Score: 0.00\n",
            "  Documento 7 - Score: 0.00\n",
            "  Documento 8 - Score: 0.00\n",
            "\n",
            "Resultados para Query 8: diagnóstico con dispositivos portátiles\n",
            "  Documento 8 - Score: 0.07\n",
            "  Documento 3 - Score: 0.02\n",
            "  Documento 4 - Score: 0.02\n",
            "  Documento 5 - Score: 0.02\n",
            "  Documento 2 - Score: 0.02\n",
            "  Documento 1 - Score: 0.00\n",
            "  Documento 6 - Score: 0.00\n",
            "  Documento 7 - Score: 0.00\n",
            "\n",
            "Resultados para Query 9: literatura de ciencia ficción\n",
            "  Documento 6 - Score: 0.07\n",
            "  Documento 3 - Score: 0.02\n",
            "  Documento 4 - Score: 0.02\n",
            "  Documento 8 - Score: 0.02\n",
            "  Documento 5 - Score: 0.02\n",
            "  Documento 7 - Score: 0.02\n",
            "  Documento 2 - Score: 0.02\n",
            "  Documento 1 - Score: 0.02\n",
            "\n",
            "Resultados para Query 10: plataformas de streaming\n",
            "  Documento 5 - Score: 0.07\n",
            "  Documento 3 - Score: 0.05\n",
            "  Documento 4 - Score: 0.02\n",
            "  Documento 6 - Score: 0.02\n",
            "  Documento 8 - Score: 0.02\n",
            "  Documento 7 - Score: 0.02\n",
            "  Documento 2 - Score: 0.02\n",
            "  Documento 1 - Score: 0.02\n",
            "\n"
          ]
        }
      ]
    }
  ]
}